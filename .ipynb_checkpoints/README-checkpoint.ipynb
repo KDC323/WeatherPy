{
 "cells": [
  {
   "cell_type": "raw",
   "metadata": {
    "collapsed": true
   },
   "source": [
    "# Dependencies\n",
    "import json\n",
    "import requests as req\n",
    "import random\n",
    "import seaborn as sns\n",
    "import pandas as pd\n",
    "import math as math\n",
    "import time\n",
    "import numpy as np\n",
    "import matplotlib.pyplot as plt\n",
    "from citipy import citipy"
   ]
  },
  {
   "cell_type": "markdown",
   "metadata": {},
   "source": [
    "Openweather api key"
   ]
  },
  {
   "cell_type": "raw",
   "metadata": {
    "collapsed": true
   },
   "source": [
    "api_key = \"478ee01ae8b8eae871901fe2bef506c7\""
   ]
  },
  {
   "cell_type": "markdown",
   "metadata": {},
   "source": [
    "Create a pandas dataframe called location_data\n",
    "Set two columns in the data frame to be random numbers for both Latitude and Longitude Values"
   ]
  },
  {
   "cell_type": "raw",
   "metadata": {},
   "source": [
    "location_data = pd.DataFrame()\n",
    "location_data['lat_values'] = [np.random.uniform(-90,90) for x in range(1500)]\n",
    "location_data['lng_values'] = [np.random.uniform(-180, 180) for x in range(1500)]\n",
    "\n",
    "location_data.head()#check\n"
   ]
  },
  {
   "cell_type": "markdown",
   "metadata": {},
   "source": [
    "Create two more columns in location_data for city and country. Start your first for loop employing the citipy library to pic the city nearest to the previous created random values for latitude and longitude.  Get both the city name and country code and put the values in the correct columns"
   ]
  },
  {
   "cell_type": "raw",
   "metadata": {},
   "source": [
    "location_data['city'] = \"\"\n",
    "location_data['country'] = \"\"\n",
    "\n",
    "count = 0\n",
    "for index, row in location_data.iterrows():\n",
    "    near_city = citipy.nearest_city(row['lat_values'], row['lng_values']).city_name\n",
    "    near_country = citipy.nearest_city(row['lat_values'], row['lng_values']).country_code\n",
    "    location_data.set_value(index,\"city\",near_city)\n",
    "    location_data.set_value(index,\"country\",near_country)\n",
    "location_data.head()#check    "
   ]
  },
  {
   "cell_type": "markdown",
   "metadata": {},
   "source": [
    "Looking at sample size of location_data"
   ]
  },
  {
   "cell_type": "raw",
   "metadata": {},
   "source": [
    "len(location_data)"
   ]
  },
  {
   "cell_type": "markdown",
   "metadata": {},
   "source": [
    "removing the duplicates of location_data based on city, and country values.  Could have used unique."
   ]
  },
  {
   "cell_type": "raw",
   "metadata": {},
   "source": [
    "location_data=location_data.drop_duplicates(['city','country'],keep = \"first\")\n",
    "#.unique"
   ]
  },
  {
   "cell_type": "markdown",
   "metadata": {},
   "source": [
    "Created Temperature, Humidity, Cloudiness, Wind Speed, Longitude (actual), and Latitude (actual) for location_data"
   ]
  },
  {
   "cell_type": "raw",
   "metadata": {},
   "source": [
    "location_data['Temp'] = \"\"\n",
    "location_data['Humidity'] = \"\"\n",
    "location_data['Cloudiness'] = \"\"\n",
    "location_data['Wind Speed'] = \"\"\n",
    "location_data[\"Lat\"] =\"\"\n",
    "location_data[\"Longitude\"] =\"\""
   ]
  },
  {
   "cell_type": "markdown",
   "metadata": {},
   "source": [
    "Set my sample size, created the target_url variable, and picked what types of units these values will display in"
   ]
  },
  {
   "cell_type": "raw",
   "metadata": {
    "collapsed": true
   },
   "source": [
    "\n",
    "\n",
    "# Set the sample size.\n",
    "sample_size = 500\n",
    "\n",
    "target_url = 'http://api.openweathermap.org/data/2.5/weather?q='\n",
    "units = 'imperial'\n"
   ]
  },
  {
   "cell_type": "raw",
   "metadata": {},
   "source": [
    "location_data.head()#check"
   ]
  },
  {
   "cell_type": "markdown",
   "metadata": {},
   "source": [
    "Performed API calls"
   ]
  },
  {
   "cell_type": "raw",
   "metadata": {},
   "source": [
    "record = 0\n",
    "for index, row in location_data.iterrows():\n",
    "    city_name = row['city']\n",
    "    country_code = row['country']\n",
    "    url = target_url + city_name + ',' + country_code + '&units=' + units + '&APPID=' + api_key\n",
    "    print (url)\n",
    "    try: \n",
    "        weather_response = req.get(url)\n",
    "        weather_json = weather_response.json()\n",
    "        latitude = weather_json[\"coord\"][\"lat\"]\n",
    "        longitude = weather_json[\"coord\"][\"lon\"]\n",
    "        temp = weather_json[\"main\"][\"temp\"]\n",
    "        humidity = weather_json[\"main\"][\"humidity\"]\n",
    "        cloud = weather_json[\"clouds\"][\"all\"]\n",
    "        wind = weather_json[\"wind\"][\"speed\"]\n",
    "        location_data.set_value(index,\"Temp\", temp)\n",
    "        location_data.set_value(index,\"Humidity\",humidity)\n",
    "        location_data.set_value(index,\"Wind Speed\", wind)\n",
    "        location_data.set_value(index,\"Cloudiness\",cloud)\n",
    "        location_data.set_value(index,\"Lat\", latitude)\n",
    "        location_data.set_value(index,\"Longitude\",longitude)\n",
    "        print(\"Retrieved data for %s, %s\" % (city_name, country_code))\n",
    "    except:\n",
    "        print(\"No data for %s, %s\" % (city_name,country_code))\n",
    "    record += 1\n",
    "    if record % 59 == 0:\n",
    "        time.sleep(60)\n",
    "        \n",
    " "
   ]
  },
  {
   "cell_type": "raw",
   "metadata": {},
   "source": [
    "location_data.head(20)#check"
   ]
  },
  {
   "cell_type": "raw",
   "metadata": {},
   "source": [
    "# check the total sample size.\n",
    "len(location_data)"
   ]
  },
  {
   "cell_type": "raw",
   "metadata": {},
   "source": [
    "# Save the DataFrame as a csv\n",
    "location_data.to_csv(\"weatherpy_data.csv\", encoding=\"utf-8\", index=False)\n",
    "\t\t\n"
   ]
  },
  {
   "cell_type": "markdown",
   "metadata": {},
   "source": [
    "Used Pandas to change string values to numerics for plotting"
   ]
  },
  {
   "cell_type": "raw",
   "metadata": {},
   "source": [
    "location_data['Lat'] = pd.to_numeric(location_data['Lat'], errors = 'coerce')\n",
    "location_data['Temp'] = pd.to_numeric(location_data['Temp'], errors = 'coerce')\n",
    "location_data['Humidity'] = pd.to_numeric(location_data['Humidity'], errors = 'coerce')\n",
    "location_data['Wind Speed'] = pd.to_numeric(location_data['Wind Speed'], errors = 'coerce')\n",
    "location_data['Cloudiness'] = pd.to_numeric(location_data['Cloudiness'], errors = 'coerce')\n",
    "\n",
    "#then drop na\n"
   ]
  },
  {
   "cell_type": "raw",
   "metadata": {},
   "source": [
    "location_data.head()#check"
   ]
  },
  {
   "cell_type": "markdown",
   "metadata": {},
   "source": [
    "Plots"
   ]
  },
  {
   "cell_type": "markdown",
   "metadata": {},
   "source": [
    "Temperature Vs. Latitude"
   ]
  },
  {
   "cell_type": "raw",
   "metadata": {},
   "source": [
    "x= location_data[\"Lat\"]\n",
    "y= location_data[\"Temp\"]\n",
    "plt.scatter (x,y, edgecolor = 'black')\n",
    "plt.title('Temperature (F) vs. Latitude')\n",
    "plt.ylabel(\"Temperature (F)\")\n",
    "plt.xlabel('Latitude')\n",
    "plt.show()"
   ]
  },
  {
   "cell_type": "markdown",
   "metadata": {},
   "source": [
    "Humidity (%) vs. Latitude"
   ]
  },
  {
   "cell_type": "raw",
   "metadata": {},
   "source": [
    "x= location_data[\"Lat\"]\n",
    "y= location_data[\"Humidity\"]\n",
    "plt.scatter (x,y,edgecolor = 'black')\n",
    "plt.title('Humidity (%) vs. Latitude')\n",
    "plt.ylabel(\"Humidity (%)\")\n",
    "plt.xlabel('Latitude')\n",
    "plt.show()"
   ]
  },
  {
   "cell_type": "markdown",
   "metadata": {},
   "source": [
    "Cloudiness (%) vs. Latitude"
   ]
  },
  {
   "cell_type": "raw",
   "metadata": {},
   "source": [
    "x= location_data[\"Lat\"]\n",
    "y= location_data[\"Cloudiness\"]\n",
    "plt.scatter (x,y,edgecolor = 'black')\n",
    "plt.title('Cloudiness (%) vs. Latitude')\n",
    "plt.ylabel(\"Cloudiness (%)\")\n",
    "plt.xlabel('Latitude')\n",
    "plt.show()"
   ]
  },
  {
   "cell_type": "markdown",
   "metadata": {},
   "source": [
    "Wind Speed (mph) vs. Latitude"
   ]
  },
  {
   "cell_type": "raw",
   "metadata": {},
   "source": [
    "x= location_data[\"Lat\"]\n",
    "y= location_data[\"Wind Speed\"]\n",
    "plt.scatter (x,y, edgecolor = 'black')\n",
    "plt.title('Wind Speed (mph) vs. Latitude')\n",
    "plt.ylabel(\"Wind Speed (mph)\")\n",
    "plt.xlabel('Latitude')\n",
    "plt.show()"
   ]
  }
 ],
 "metadata": {
  "kernelspec": {
   "display_name": "Python 3",
   "language": "python",
   "name": "python3"
  },
  "language_info": {
   "codemirror_mode": {
    "name": "ipython",
    "version": 3
   },
   "file_extension": ".py",
   "mimetype": "text/x-python",
   "name": "python",
   "nbconvert_exporter": "python",
   "pygments_lexer": "ipython3",
   "version": "3.6.2"
  }
 },
 "nbformat": 4,
 "nbformat_minor": 2
}
